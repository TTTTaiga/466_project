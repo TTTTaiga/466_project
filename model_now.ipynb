{
  "nbformat": 4,
  "nbformat_minor": 0,
  "metadata": {
    "colab": {
      "name": "model_now.ipynb",
      "provenance": [],
      "collapsed_sections": []
    },
    "kernelspec": {
      "display_name": "Python 3",
      "name": "python3"
    }
  },
  "cells": [
    {
      "cell_type": "code",
      "metadata": {
        "id": "HGfGCHDeTK6e"
      },
      "source": [
        "#Reference:\n",
        "# Rizvi, Mohd Sanad Zaki. \"A Comprehensive Guide To Build Your Own Language Model In Python!\". Medium, 2019, https://medium.com/analytics-vidhya/a-comprehensive-guide-to-build-your-own-language-model-in-python-5141b3917d6d.\n",
        "\n",
        "import time\n",
        "import numpy as np\n",
        "import pandas as pd\n",
        "from keras.utils import to_categorical\n",
        "from keras.preprocessing.sequence import pad_sequences\n",
        "from keras.models import Sequential\n",
        "from keras.layers import LSTM, Dense, GRU, Embedding, SimpleRNN\n",
        "from keras.callbacks import EarlyStopping, ModelCheckpoint\n"
      ],
      "execution_count": null,
      "outputs": []
    },
    {
      "cell_type": "code",
      "metadata": {
        "colab": {
          "base_uri": "https://localhost:8080/"
        },
        "id": "Kv8YpfpWUIUH",
        "outputId": "d94d0c09-5c8a-4c22-bb2b-61aeb270d5b1"
      },
      "source": [
        "!git clone https://github.com/TTTTaiga/466_project.git\n",
        "%cd 466_project/data\n",
        "!ls\n",
        "#filepath = \"/content/The Republic by Plato.txt\"\n",
        "filepath = 'EBook_of_The_Republic.txt'\n",
        "\n",
        "original_text = open(filepath, \"r\").read()\n",
        "# since it takes too long to run the whole article, we choose part of it to train\n",
        "\n",
        "data_text = original_text[: 30000]\n",
        "\n",
        "\n",
        "print(type(data_text))\n",
        "print(len(original_text))                                   \n",
        "print(len(data_text))\n"
      ],
      "execution_count": null,
      "outputs": [
        {
          "output_type": "stream",
          "text": [
            "Cloning into '466_project'...\n",
            "remote: Enumerating objects: 29, done.\u001b[K\n",
            "remote: Counting objects: 100% (29/29), done.\u001b[K\n",
            "remote: Compressing objects: 100% (20/20), done.\u001b[K\n",
            "remote: Total 29 (delta 2), reused 0 (delta 0), pack-reused 0\u001b[K\n",
            "Unpacking objects: 100% (29/29), done.\n",
            "/content/466_project/data/466_project/data\n",
            "EBook_of_The_Republic.txt  vaccination_tweets.csv\n",
            "<class 'str'>\n",
            "1214387\n",
            "30000\n"
          ],
          "name": "stdout"
        }
      ]
    },
    {
      "cell_type": "code",
      "metadata": {
        "colab": {
          "base_uri": "https://localhost:8080/"
        },
        "id": "GT-IubWLVGp6",
        "outputId": "75facbf9-8bca-4efc-c526-a2751bf0ab2a"
      },
      "source": [
        "import re\n",
        "\n",
        "def text_cleaner(text):\n",
        "    # lower case text\n",
        "    newString = text.lower()\n",
        "    newString = re.sub(r\"'s\\b\",\"\",newString)\n",
        "    # remove punctuations\n",
        "    newString = re.sub(\"[^a-zA-Z]\", \" \", newString) \n",
        "    long_words=[]\n",
        "    # remove short word\n",
        "    for i in newString.split():\n",
        "        if len(i)>=3:                  \n",
        "            long_words.append(i)\n",
        "    return (\" \".join(long_words)).strip()\n",
        "\n",
        "# preprocess the text\n",
        "data_new = text_cleaner(data_text)\n",
        "\n",
        "print(data_new[0:500])"
      ],
      "execution_count": null,
      "outputs": [
        {
          "output_type": "stream",
          "text": [
            "the project gutenberg ebook the republic plato this ebook for the use anyone anywhere cost and with almost restrictions whatsoever you may copy give away use under the terms the project gutenberg license included with this ebook online www gutenberg org title the republic author plato translator jowett posting date august ebook release date october last updated june language english start this project gutenberg ebook the republic produced sue asscher the republic plato translated benjamin jowett\n"
          ],
          "name": "stdout"
        }
      ]
    },
    {
      "cell_type": "code",
      "metadata": {
        "colab": {
          "base_uri": "https://localhost:8080/"
        },
        "id": "jTZpNGHsVIaa",
        "outputId": "8bb6f54e-d25d-4803-8aa6-c59343f1d0b0"
      },
      "source": [
        "def create_seq(text):\n",
        "    length = 30\n",
        "    sequences = list()\n",
        "    for i in range(length, len(text)):\n",
        "        # select sequence of tokens\n",
        "        seq = text[i-length:i+1]\n",
        "        # store\n",
        "        sequences.append(seq)\n",
        "    print('Total Sequences: %d' % len(sequences))\n",
        "    return sequences\n",
        "\n",
        "# create sequences   \n",
        "sequences = create_seq(data_new)\n",
        "\n",
        "print(sequences[0:10])"
      ],
      "execution_count": null,
      "outputs": [
        {
          "output_type": "stream",
          "text": [
            "Total Sequences: 25381\n",
            "['the project gutenberg ebook the', 'he project gutenberg ebook the ', 'e project gutenberg ebook the r', ' project gutenberg ebook the re', 'project gutenberg ebook the rep', 'roject gutenberg ebook the repu', 'oject gutenberg ebook the repub', 'ject gutenberg ebook the republ', 'ect gutenberg ebook the republi', 'ct gutenberg ebook the republic']\n"
          ],
          "name": "stdout"
        }
      ]
    },
    {
      "cell_type": "code",
      "metadata": {
        "colab": {
          "base_uri": "https://localhost:8080/"
        },
        "id": "BWGUkThFVKIi",
        "outputId": "dc76426c-fdce-475e-fd3c-f59c12138b78"
      },
      "source": [
        "# create a character mapping index\n",
        "chars = sorted(list(set(data_new)))\n",
        "mapping = dict((c, i) for i, c in enumerate(chars))\n",
        "print(mapping)\n",
        "\n",
        "def encode_seq(seq):\n",
        "    sequences = list()\n",
        "    for line in seq:\n",
        "      # integer encode line\n",
        "      encoded_seq = [mapping[char] for char in line]\n",
        "\n",
        "      # store\n",
        "      sequences.append(encoded_seq)\n",
        "    return sequences\n",
        "\n",
        "# encode the sequences\n",
        "sequences = encode_seq(sequences)"
      ],
      "execution_count": null,
      "outputs": [
        {
          "output_type": "stream",
          "text": [
            "{' ': 0, 'a': 1, 'b': 2, 'c': 3, 'd': 4, 'e': 5, 'f': 6, 'g': 7, 'h': 8, 'i': 9, 'j': 10, 'k': 11, 'l': 12, 'm': 13, 'n': 14, 'o': 15, 'p': 16, 'q': 17, 'r': 18, 's': 19, 't': 20, 'u': 21, 'v': 22, 'w': 23, 'x': 24, 'y': 25, 'z': 26}\n"
          ],
          "name": "stdout"
        }
      ]
    },
    {
      "cell_type": "code",
      "metadata": {
        "colab": {
          "base_uri": "https://localhost:8080/"
        },
        "id": "se_Dy8J4VMMA",
        "outputId": "aa8c713e-381f-48e1-85d5-465c67625ea2"
      },
      "source": [
        "from sklearn.model_selection import train_test_split\n",
        "\n",
        "# vocabulary size\n",
        "vocab = len(mapping)\n",
        "sequences = np.array(sequences)\n",
        "\n",
        "# create X and y\n",
        "X, y = sequences[:,:-1], sequences[:,-1]\n",
        "\n",
        "# one hot encode y\n",
        "y = to_categorical(y, num_classes=vocab)\n",
        "# create train and validation sets\n",
        "X_tr, X_val, y_tr, y_val = train_test_split(X, y, test_size=0.1, random_state=42)\n",
        "\n",
        "print('Train shape:', X_tr.shape, 'Val shape:', X_val.shape)\n"
      ],
      "execution_count": null,
      "outputs": [
        {
          "output_type": "stream",
          "text": [
            "Train shape: (22842, 30) Val shape: (2539, 30)\n"
          ],
          "name": "stdout"
        }
      ]
    },
    {
      "cell_type": "code",
      "metadata": {
        "colab": {
          "base_uri": "https://localhost:8080/"
        },
        "id": "FW5VC3dKVN_V",
        "outputId": "096a8119-28ab-4f4c-853a-5842b7e43408"
      },
      "source": [
        "# define model\n",
        "\n",
        "num_embedding_dimension = 20\n",
        "model = Sequential()\n",
        "model.add(Embedding(vocab, num_embedding_dimension, input_length=30, trainable=True))\n",
        "#model.add(SimpleRNN(150, recurrent_dropout=0.1, dropout=0.1))\n",
        "model.add(GRU(150, recurrent_dropout=0.1, dropout=0.1))\n",
        "model.add(Dense(vocab, activation='softmax'))\n",
        "print(model.summary())\n",
        "\n",
        "# get model plot\n",
        "from keras.utils.vis_utils import plot_model\n",
        "plot_model(model, to_file='model_plot.png', show_shapes=True, show_layer_names=True)\n",
        "\n",
        "# compile the model\n",
        "hist = model.compile(loss='categorical_crossentropy', metrics=['acc'], optimizer='adam')\n",
        "# fit the model\n",
        "start_time = time.time()\n",
        "num_epochs = 50\n",
        "hist = model.fit(X_tr, y_tr, epochs = num_epochs, verbose=2, validation_data=(X_val, y_val))\n",
        "\n",
        "end_time = time.time()\n",
        "print(\"Training takes\", end_time - start_time)\n",
        "\n",
        "# get graph\n",
        "import matplotlib.pyplot as plt\n",
        "\n",
        "train_acc = hist.history['acc']\n",
        "val_acc = hist.history['val_acc']\n",
        "x = np.linspace(0,num_epochs, num_epochs)\n",
        "\n",
        "plt.plot(x, train_acc, label = 'training set')\n",
        "plt.plot(x, val_acc, label = 'validation set')\n",
        "\n",
        "plt.xlabel('number of epochs')\n",
        "plt.ylabel('accuracy')\n",
        "plt.title('Perfomance with %d embedding dimensions for each character' %(num_embedding_dimension))\n",
        "plt.legend()\n",
        "plt.show() "
      ],
      "execution_count": null,
      "outputs": [
        {
          "output_type": "stream",
          "text": [
            "Model: \"sequential_2\"\n",
            "_________________________________________________________________\n",
            "Layer (type)                 Output Shape              Param #   \n",
            "=================================================================\n",
            "embedding_2 (Embedding)      (None, 30, 20)            540       \n",
            "_________________________________________________________________\n",
            "gru_2 (GRU)                  (None, 150)               77400     \n",
            "_________________________________________________________________\n",
            "dense_2 (Dense)              (None, 27)                4077      \n",
            "=================================================================\n",
            "Total params: 82,017\n",
            "Trainable params: 82,017\n",
            "Non-trainable params: 0\n",
            "_________________________________________________________________\n",
            "None\n",
            "Epoch 1/50\n",
            "714/714 - 52s - loss: 2.4570 - acc: 0.2844 - val_loss: 2.2131 - val_acc: 0.3316\n",
            "Epoch 2/50\n",
            "714/714 - 49s - loss: 2.1435 - acc: 0.3585 - val_loss: 2.0955 - val_acc: 0.3647\n",
            "Epoch 3/50\n",
            "714/714 - 49s - loss: 2.0325 - acc: 0.3961 - val_loss: 1.9935 - val_acc: 0.4049\n",
            "Epoch 4/50\n",
            "714/714 - 49s - loss: 1.9254 - acc: 0.4309 - val_loss: 1.9052 - val_acc: 0.4403\n",
            "Epoch 5/50\n",
            "714/714 - 49s - loss: 1.8258 - acc: 0.4629 - val_loss: 1.8267 - val_acc: 0.4738\n",
            "Epoch 6/50\n",
            "714/714 - 49s - loss: 1.7374 - acc: 0.4903 - val_loss: 1.7874 - val_acc: 0.4860\n",
            "Epoch 7/50\n",
            "714/714 - 49s - loss: 1.6646 - acc: 0.5083 - val_loss: 1.7410 - val_acc: 0.4947\n",
            "Epoch 8/50\n",
            "714/714 - 50s - loss: 1.5974 - acc: 0.5283 - val_loss: 1.6901 - val_acc: 0.5049\n",
            "Epoch 9/50\n",
            "714/714 - 49s - loss: 1.5415 - acc: 0.5423 - val_loss: 1.6571 - val_acc: 0.5148\n",
            "Epoch 10/50\n",
            "714/714 - 49s - loss: 1.4961 - acc: 0.5536 - val_loss: 1.6323 - val_acc: 0.5282\n",
            "Epoch 11/50\n",
            "714/714 - 49s - loss: 1.4486 - acc: 0.5650 - val_loss: 1.6225 - val_acc: 0.5333\n",
            "Epoch 12/50\n",
            "714/714 - 50s - loss: 1.4094 - acc: 0.5797 - val_loss: 1.6004 - val_acc: 0.5289\n",
            "Epoch 13/50\n",
            "714/714 - 50s - loss: 1.3778 - acc: 0.5856 - val_loss: 1.6032 - val_acc: 0.5388\n",
            "Epoch 14/50\n",
            "714/714 - 50s - loss: 1.3470 - acc: 0.5924 - val_loss: 1.5896 - val_acc: 0.5423\n",
            "Epoch 15/50\n",
            "714/714 - 49s - loss: 1.3218 - acc: 0.6015 - val_loss: 1.5897 - val_acc: 0.5368\n",
            "Epoch 16/50\n",
            "714/714 - 49s - loss: 1.2968 - acc: 0.6055 - val_loss: 1.5938 - val_acc: 0.5561\n",
            "Epoch 17/50\n",
            "714/714 - 49s - loss: 1.2792 - acc: 0.6088 - val_loss: 1.5817 - val_acc: 0.5589\n",
            "Epoch 18/50\n",
            "714/714 - 49s - loss: 1.2574 - acc: 0.6140 - val_loss: 1.5854 - val_acc: 0.5577\n",
            "Epoch 19/50\n",
            "714/714 - 50s - loss: 1.2380 - acc: 0.6186 - val_loss: 1.5791 - val_acc: 0.5577\n",
            "Epoch 20/50\n",
            "714/714 - 50s - loss: 1.2189 - acc: 0.6244 - val_loss: 1.5774 - val_acc: 0.5553\n",
            "Epoch 21/50\n",
            "714/714 - 50s - loss: 1.2085 - acc: 0.6306 - val_loss: 1.5723 - val_acc: 0.5628\n",
            "Epoch 22/50\n",
            "714/714 - 49s - loss: 1.1921 - acc: 0.6338 - val_loss: 1.5797 - val_acc: 0.5593\n",
            "Epoch 23/50\n",
            "714/714 - 49s - loss: 1.1743 - acc: 0.6369 - val_loss: 1.5813 - val_acc: 0.5569\n",
            "Epoch 24/50\n",
            "714/714 - 49s - loss: 1.1664 - acc: 0.6398 - val_loss: 1.5813 - val_acc: 0.5675\n",
            "Epoch 25/50\n",
            "714/714 - 50s - loss: 1.1555 - acc: 0.6448 - val_loss: 1.5948 - val_acc: 0.5605\n",
            "Epoch 26/50\n",
            "714/714 - 49s - loss: 1.1503 - acc: 0.6467 - val_loss: 1.5877 - val_acc: 0.5687\n",
            "Epoch 27/50\n",
            "714/714 - 49s - loss: 1.1397 - acc: 0.6458 - val_loss: 1.5781 - val_acc: 0.5585\n",
            "Epoch 28/50\n",
            "714/714 - 49s - loss: 1.1291 - acc: 0.6483 - val_loss: 1.5821 - val_acc: 0.5683\n",
            "Epoch 29/50\n",
            "714/714 - 49s - loss: 1.1178 - acc: 0.6504 - val_loss: 1.5873 - val_acc: 0.5711\n",
            "Epoch 30/50\n",
            "714/714 - 49s - loss: 1.1123 - acc: 0.6531 - val_loss: 1.6098 - val_acc: 0.5620\n",
            "Epoch 31/50\n",
            "714/714 - 49s - loss: 1.1027 - acc: 0.6557 - val_loss: 1.6019 - val_acc: 0.5656\n",
            "Epoch 32/50\n",
            "714/714 - 49s - loss: 1.1067 - acc: 0.6541 - val_loss: 1.6219 - val_acc: 0.5664\n",
            "Epoch 33/50\n",
            "714/714 - 49s - loss: 1.0962 - acc: 0.6544 - val_loss: 1.5994 - val_acc: 0.5612\n",
            "Epoch 34/50\n",
            "714/714 - 48s - loss: 1.0923 - acc: 0.6543 - val_loss: 1.6100 - val_acc: 0.5640\n",
            "Epoch 35/50\n",
            "714/714 - 48s - loss: 1.0809 - acc: 0.6641 - val_loss: 1.6312 - val_acc: 0.5660\n",
            "Epoch 36/50\n",
            "714/714 - 48s - loss: 1.0710 - acc: 0.6619 - val_loss: 1.6343 - val_acc: 0.5668\n",
            "Epoch 37/50\n",
            "714/714 - 49s - loss: 1.0760 - acc: 0.6590 - val_loss: 1.6282 - val_acc: 0.5616\n",
            "Epoch 38/50\n",
            "714/714 - 49s - loss: 1.0565 - acc: 0.6684 - val_loss: 1.6418 - val_acc: 0.5585\n",
            "Epoch 39/50\n",
            "714/714 - 49s - loss: 1.0564 - acc: 0.6684 - val_loss: 1.6299 - val_acc: 0.5644\n",
            "Epoch 40/50\n",
            "714/714 - 48s - loss: 1.0517 - acc: 0.6700 - val_loss: 1.6497 - val_acc: 0.5628\n",
            "Epoch 41/50\n",
            "714/714 - 48s - loss: 1.0562 - acc: 0.6714 - val_loss: 1.6419 - val_acc: 0.5640\n",
            "Epoch 42/50\n",
            "714/714 - 48s - loss: 1.0365 - acc: 0.6740 - val_loss: 1.6273 - val_acc: 0.5715\n",
            "Epoch 43/50\n",
            "714/714 - 48s - loss: 1.0404 - acc: 0.6715 - val_loss: 1.6445 - val_acc: 0.5597\n",
            "Epoch 44/50\n",
            "714/714 - 49s - loss: 1.0424 - acc: 0.6711 - val_loss: 1.6381 - val_acc: 0.5664\n",
            "Epoch 45/50\n",
            "714/714 - 49s - loss: 1.0358 - acc: 0.6713 - val_loss: 1.6636 - val_acc: 0.5675\n",
            "Epoch 46/50\n",
            "714/714 - 49s - loss: 1.0291 - acc: 0.6713 - val_loss: 1.6714 - val_acc: 0.5652\n",
            "Epoch 47/50\n",
            "714/714 - 48s - loss: 1.0279 - acc: 0.6711 - val_loss: 1.6694 - val_acc: 0.5565\n",
            "Epoch 48/50\n",
            "714/714 - 48s - loss: 1.0166 - acc: 0.6762 - val_loss: 1.6531 - val_acc: 0.5691\n",
            "Epoch 49/50\n",
            "714/714 - 49s - loss: 1.0235 - acc: 0.6744 - val_loss: 1.6503 - val_acc: 0.5640\n",
            "Epoch 50/50\n",
            "714/714 - 49s - loss: 1.0136 - acc: 0.6787 - val_loss: 1.6549 - val_acc: 0.5620\n",
            "Training takes 2453.889997959137\n"
          ],
          "name": "stdout"
        },
        {
          "output_type": "display_data",
          "data": {
            "image/png": "[encoded data removed]",
            "text/plain": [
              "<Figure size 432x288 with 1 Axes>"
            ]
          },
          "metadata": {
            "tags": [],
            "needs_background": "light"
          }
        }
      ]
    },
    {
      "cell_type": "code",
      "metadata": {
        "id": "r4aQ4NO_d8Y0"
      },
      "source": [
        "# generate a sequence of characters with a language model\n",
        "def generate_seq(model, mapping, seq_length, seed_text, n_chars):\n",
        "\tin_text = seed_text\n",
        "\t# generate a fixed number of characters\n",
        "\tfor _ in range(n_chars):\n",
        "\t\t# encode the characters as integers\n",
        "\t\tencoded = [mapping[char] for char in in_text]\n",
        "\t\t# truncate sequences to a fixed length\n",
        "\t\tencoded = pad_sequences([encoded], maxlen=seq_length, truncating='pre')\n",
        "\t\t# predict character\n",
        "\t\tyhat = model.predict_classes(encoded, verbose=0)\n",
        "\t\t# reverse map integer to character\n",
        "\t\tout_char = ''\n",
        "\t\tfor char, index in mapping.items():\n",
        "\t\t\tif index == yhat:\n",
        "\t\t\t\tout_char = char\n",
        "\t\t\t\tbreak\n",
        "\t\t# append to input\n",
        "\t\tin_text += char\n",
        "\treturn in_text\n"
      ],
      "execution_count": null,
      "outputs": []
    },
    {
      "cell_type": "code",
      "metadata": {
        "colab": {
          "base_uri": "https://localhost:8080/"
        },
        "id": "6ab97QAneFit",
        "outputId": "87a793c3-3817-47d0-9c01-6c7de1936c94"
      },
      "source": [
        "inp = 'it talks about'\n",
        "print(generate_seq(model, mapping, 30, inp, len(inp) + 1))"
      ],
      "execution_count": null,
      "outputs": [
        {
          "output_type": "stream",
          "text": [
            "/usr/local/lib/python3.7/dist-packages/tensorflow/python/keras/engine/sequential.py:450: UserWarning: `model.predict_classes()` is deprecated and will be removed after 2021-01-01. Please use instead:* `np.argmax(model.predict(x), axis=-1)`,   if your model does multi-class classification   (e.g. if it uses a `softmax` last-layer activation).* `(model.predict(x) > 0.5).astype(\"int32\")`,   if your model does binary classification   (e.g. if it uses a `sigmoid` last-layer activation).\n",
            "  warnings.warn('`model.predict_classes()` is deprecated and '\n"
          ],
          "name": "stderr"
        },
        {
          "output_type": "stream",
          "text": [
            "it talks about the project gu\n"
          ],
          "name": "stdout"
        }
      ]
    }
  ]
}